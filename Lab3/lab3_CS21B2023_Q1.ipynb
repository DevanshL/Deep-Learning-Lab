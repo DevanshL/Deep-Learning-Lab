{
 "cells": [
  {
   "cell_type": "code",
   "execution_count": 1,
   "id": "da3f4d82",
   "metadata": {},
   "outputs": [],
   "source": [
    "import numpy as np\n",
    "import pandas as pd\n",
    "import matplotlib.pyplot as plt"
   ]
  },
  {
   "cell_type": "code",
   "execution_count": 3,
   "id": "0a1ebb41",
   "metadata": {},
   "outputs": [
    {
     "data": {
      "text/html": [
       "<div>\n",
       "<style scoped>\n",
       "    .dataframe tbody tr th:only-of-type {\n",
       "        vertical-align: middle;\n",
       "    }\n",
       "\n",
       "    .dataframe tbody tr th {\n",
       "        vertical-align: top;\n",
       "    }\n",
       "\n",
       "    .dataframe thead th {\n",
       "        text-align: right;\n",
       "    }\n",
       "</style>\n",
       "<table border=\"1\" class=\"dataframe\">\n",
       "  <thead>\n",
       "    <tr style=\"text-align: right;\">\n",
       "      <th></th>\n",
       "      <th>X</th>\n",
       "      <th>Y</th>\n",
       "    </tr>\n",
       "  </thead>\n",
       "  <tbody>\n",
       "    <tr>\n",
       "      <th>0</th>\n",
       "      <td>32.502345</td>\n",
       "      <td>31.707006</td>\n",
       "    </tr>\n",
       "    <tr>\n",
       "      <th>1</th>\n",
       "      <td>53.426804</td>\n",
       "      <td>68.777596</td>\n",
       "    </tr>\n",
       "    <tr>\n",
       "      <th>2</th>\n",
       "      <td>61.530358</td>\n",
       "      <td>62.562382</td>\n",
       "    </tr>\n",
       "    <tr>\n",
       "      <th>3</th>\n",
       "      <td>47.475640</td>\n",
       "      <td>71.546632</td>\n",
       "    </tr>\n",
       "    <tr>\n",
       "      <th>4</th>\n",
       "      <td>59.813208</td>\n",
       "      <td>87.230925</td>\n",
       "    </tr>\n",
       "  </tbody>\n",
       "</table>\n",
       "</div>"
      ],
      "text/plain": [
       "           X          Y\n",
       "0  32.502345  31.707006\n",
       "1  53.426804  68.777596\n",
       "2  61.530358  62.562382\n",
       "3  47.475640  71.546632\n",
       "4  59.813208  87.230925"
      ]
     },
     "execution_count": 3,
     "metadata": {},
     "output_type": "execute_result"
    }
   ],
   "source": [
    "df = pd.read_csv('Linear Regression Dataset - data.csv')\n",
    "df.head(5)"
   ]
  },
  {
   "cell_type": "code",
   "execution_count": 5,
   "id": "053cc5a1",
   "metadata": {},
   "outputs": [
    {
     "data": {
      "image/png": "[encoded data removed]",
      "text/plain": [
       "<Figure size 576x432 with 1 Axes>"
      ]
     },
     "metadata": {
      "needs_background": "light"
     },
     "output_type": "display_data"
    }
   ],
   "source": [
    "plt.figure(figsize=(8, 6))\n",
    "plt.scatter(x=df['X'], y = df['Y'], color='blue', label='Data Points')\n",
    "\n",
    "# Add labels and title\n",
    "plt.xlabel('X')\n",
    "plt.ylabel('Y')\n",
    "plt.title('Scatter Plot of X vs Y')\n",
    "\n",
    "plt.legend()\n",
    "\n",
    "plt.grid(True)\n",
    "plt.show()"
   ]
  },
  {
   "cell_type": "code",
   "execution_count": 14,
   "id": "642d8f47",
   "metadata": {},
   "outputs": [],
   "source": [
    "class LR:\n",
    "    def __init__(self, alpha=0.0001, threshold=0.0001, max_iterations=100):\n",
    "        self.m = 0\n",
    "        self.c = 0\n",
    "        self.alpha = alpha\n",
    "        self.threshold = threshold\n",
    "        self.max_iterations = max_iterations\n",
    "        self.errors = []\n",
    "        \n",
    "    def mse(self,y_pred,y_true):\n",
    "        return np.mean((y_pred-y_true)**2)\n",
    "    \n",
    "    def predict(self,x):\n",
    "        return self.m *x + self.c\n",
    "    \n",
    "    def update_params(self,x,y,y_pred):\n",
    "        n = len(x)\n",
    "        sum_i = 0\n",
    "        for i in range(n):\n",
    "            sum_i += ((y_pred[i]-y[i])*x[i])\n",
    "        sum_i = sum_i/n\n",
    "        self.m = self.m - (self.alpha*sum_i)\n",
    "        self.c = self.c - (self.alpha*sum_i)\n",
    "    \n",
    "    def train(self,x,y):\n",
    "        for _ in range(self.max_iterations):\n",
    "            y_pred = self.predict(x)\n",
    "            error = self.mse(y_pred ,y)\n",
    "            self.errors.append(error)\n",
    "            \n",
    "            # difference of last two errors\n",
    "            if len(self.errors) >1 and abs(self.errors[-1]- self.errors[-2]) < self.threshold:\n",
    "                print('Convergence at each iteration',len(self.errors))\n",
    "                break\n",
    "                \n",
    "            self.update_params(x,y,y_pred)  \n",
    "    \n",
    "    def plot_errors(self):\n",
    "        plt.plot(range(len(self.errors)), self.errors)\n",
    "        plt.xlabel('Iterations')\n",
    "        plt.ylabel('Mean Squared Error')\n",
    "        plt.title('Mean Squared Error over Iterations')\n",
    "        plt.show()"
   ]
  },
  {
   "cell_type": "code",
   "execution_count": 15,
   "id": "97c6457c",
   "metadata": {},
   "outputs": [
    {
     "name": "stdout",
     "output_type": "stream",
     "text": [
      "Convergence at each iteration 32\n"
     ]
    },
    {
     "data": {
      "image/png": "[encoded data removed]",
      "text/plain": [
       "<Figure size 432x288 with 1 Axes>"
      ]
     },
     "metadata": {
      "needs_background": "light"
     },
     "output_type": "display_data"
    }
   ],
   "source": [
    "model = LR(alpha=0.0001, threshold=0.0001, max_iterations=1000)\n",
    "model.train(df['X'], df['Y'])\n",
    "model.plot_errors()"
   ]
  },
  {
   "cell_type": "code",
   "execution_count": 18,
   "id": "26ac11e0",
   "metadata": {},
   "outputs": [
    {
     "data": {
      "text/plain": [
       "1.4508070448806822"
      ]
     },
     "execution_count": 18,
     "metadata": {},
     "output_type": "execute_result"
    }
   ],
   "source": [
    "model.m"
   ]
  },
  {
   "cell_type": "code",
   "execution_count": 19,
   "id": "1c49c091",
   "metadata": {},
   "outputs": [
    {
     "data": {
      "text/plain": [
       "1.4508070448806822"
      ]
     },
     "execution_count": 19,
     "metadata": {},
     "output_type": "execute_result"
    }
   ],
   "source": [
    "model.c"
   ]
  },
  {
   "cell_type": "code",
   "execution_count": 21,
   "id": "64db6f5a",
   "metadata": {},
   "outputs": [
    {
     "data": {
      "image/png": "[encoded data removed]",
      "text/plain": [
       "<Figure size 576x432 with 1 Axes>"
      ]
     },
     "metadata": {
      "needs_background": "light"
     },
     "output_type": "display_data"
    }
   ],
   "source": [
    "plt.figure(figsize=(8, 6))\n",
    "y_pred = model.predict(df['X'])\n",
    "plt.scatter(x=df['X'], y = df['Y'], color='blue', label='Data Points')\n",
    "plt.plot(df['X'],y_pred,color='g')\n",
    "# Add labels and title\n",
    "plt.xlabel('X')\n",
    "plt.ylabel('Y')\n",
    "plt.title('Scatter Plot of X vs Y')\n",
    "\n",
    "plt.legend()\n",
    "\n",
    "plt.grid(True)\n",
    "plt.show()"
   ]
  },
  {
   "cell_type": "code",
   "execution_count": 28,
   "id": "6da7f2b6",
   "metadata": {},
   "outputs": [
    {
     "name": "stdout",
     "output_type": "stream",
     "text": [
      "Enter the value of X to predict : 59.81\n",
      "Prediction 59.81: 88.22357639919429\n"
     ]
    }
   ],
   "source": [
    "x = float(input(\"Enter the value of X to predict : \"))\n",
    "\n",
    "prediction = model.predict(x)\n",
    "print(\"Prediction {}: {}\".format(x, prediction))\n"
   ]
  },
  {
   "cell_type": "code",
   "execution_count": null,
   "id": "e1745c4d",
   "metadata": {},
   "outputs": [],
   "source": []
  }
 ],
 "metadata": {
  "kernelspec": {
   "display_name": "Python 3 (ipykernel)",
   "language": "python",
   "name": "python3"
  },
  "language_info": {
   "codemirror_mode": {
    "name": "ipython",
    "version": 3
   },
   "file_extension": ".py",
   "mimetype": "text/x-python",
   "name": "python",
   "nbconvert_exporter": "python",
   "pygments_lexer": "ipython3",
   "version": "3.9.12"
  }
 },
 "nbformat": 4,
 "nbformat_minor": 5
}
