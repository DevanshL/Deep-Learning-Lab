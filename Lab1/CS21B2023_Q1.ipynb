{
 "cells": [
  {
   "cell_type": "markdown",
   "id": "d1049904",
   "metadata": {},
   "source": [
    "# Perceptron"
   ]
  },
  {
   "cell_type": "code",
   "execution_count": 19,
   "id": "65d3f784",
   "metadata": {},
   "outputs": [],
   "source": [
    "import numpy as np\n",
    "import pandas as pd\n",
    "import matplotlib.pyplot as plt\n",
    "import warnings\n",
    "\n",
    "warnings.filterwarnings('ignore')"
   ]
  },
  {
   "cell_type": "code",
   "execution_count": 20,
   "id": "1b04142d",
   "metadata": {},
   "outputs": [
    {
     "data": {
      "text/html": [
       "<div>\n",
       "<style scoped>\n",
       "    .dataframe tbody tr th:only-of-type {\n",
       "        vertical-align: middle;\n",
       "    }\n",
       "\n",
       "    .dataframe tbody tr th {\n",
       "        vertical-align: top;\n",
       "    }\n",
       "\n",
       "    .dataframe thead th {\n",
       "        text-align: right;\n",
       "    }\n",
       "</style>\n",
       "<table border=\"1\" class=\"dataframe\">\n",
       "  <thead>\n",
       "    <tr style=\"text-align: right;\">\n",
       "      <th></th>\n",
       "      <th>Id</th>\n",
       "      <th>SepalLengthCm</th>\n",
       "      <th>SepalWidthCm</th>\n",
       "      <th>PetalLengthCm</th>\n",
       "      <th>PetalWidthCm</th>\n",
       "      <th>Species</th>\n",
       "    </tr>\n",
       "  </thead>\n",
       "  <tbody>\n",
       "    <tr>\n",
       "      <th>0</th>\n",
       "      <td>1</td>\n",
       "      <td>5.1</td>\n",
       "      <td>3.5</td>\n",
       "      <td>1.4</td>\n",
       "      <td>0.2</td>\n",
       "      <td>Iris-setosa</td>\n",
       "    </tr>\n",
       "    <tr>\n",
       "      <th>1</th>\n",
       "      <td>2</td>\n",
       "      <td>4.9</td>\n",
       "      <td>3.0</td>\n",
       "      <td>1.4</td>\n",
       "      <td>0.2</td>\n",
       "      <td>Iris-setosa</td>\n",
       "    </tr>\n",
       "    <tr>\n",
       "      <th>2</th>\n",
       "      <td>3</td>\n",
       "      <td>4.7</td>\n",
       "      <td>3.2</td>\n",
       "      <td>1.3</td>\n",
       "      <td>0.2</td>\n",
       "      <td>Iris-setosa</td>\n",
       "    </tr>\n",
       "    <tr>\n",
       "      <th>3</th>\n",
       "      <td>4</td>\n",
       "      <td>4.6</td>\n",
       "      <td>3.1</td>\n",
       "      <td>1.5</td>\n",
       "      <td>0.2</td>\n",
       "      <td>Iris-setosa</td>\n",
       "    </tr>\n",
       "    <tr>\n",
       "      <th>4</th>\n",
       "      <td>5</td>\n",
       "      <td>5.0</td>\n",
       "      <td>3.6</td>\n",
       "      <td>1.4</td>\n",
       "      <td>0.2</td>\n",
       "      <td>Iris-setosa</td>\n",
       "    </tr>\n",
       "  </tbody>\n",
       "</table>\n",
       "</div>"
      ],
      "text/plain": [
       "   Id  SepalLengthCm  SepalWidthCm  PetalLengthCm  PetalWidthCm      Species\n",
       "0   1            5.1           3.5            1.4           0.2  Iris-setosa\n",
       "1   2            4.9           3.0            1.4           0.2  Iris-setosa\n",
       "2   3            4.7           3.2            1.3           0.2  Iris-setosa\n",
       "3   4            4.6           3.1            1.5           0.2  Iris-setosa\n",
       "4   5            5.0           3.6            1.4           0.2  Iris-setosa"
      ]
     },
     "execution_count": 20,
     "metadata": {},
     "output_type": "execute_result"
    }
   ],
   "source": [
    "df = pd.read_csv('Iris Dataset - iris.csv')\n",
    "df.head()"
   ]
  },
  {
   "cell_type": "code",
   "execution_count": 21,
   "id": "c4201a24",
   "metadata": {},
   "outputs": [
    {
     "data": {
      "text/plain": [
       "(150, 6)"
      ]
     },
     "execution_count": 21,
     "metadata": {},
     "output_type": "execute_result"
    }
   ],
   "source": [
    "df.shape"
   ]
  },
  {
   "cell_type": "code",
   "execution_count": 22,
   "id": "c4009b4e",
   "metadata": {},
   "outputs": [
    {
     "data": {
      "text/plain": [
       "array(['Iris-setosa', 'Iris-versicolor', 'Iris-virginica'], dtype=object)"
      ]
     },
     "execution_count": 22,
     "metadata": {},
     "output_type": "execute_result"
    }
   ],
   "source": [
    "df['Species'].unique()"
   ]
  },
  {
   "cell_type": "markdown",
   "id": "6a4fb530",
   "metadata": {},
   "source": [
    "### Split the x and y"
   ]
  },
  {
   "cell_type": "code",
   "execution_count": 23,
   "id": "e8759a49",
   "metadata": {},
   "outputs": [],
   "source": [
    "df_sample = df[df['Species'] != 'Iris-virginica']\n",
    "\n",
    "x = df_sample.iloc[:, 1:5].values\n",
    "y = df_sample['Species'].map({'Iris-setosa': 0, 'Iris-versicolor': 1}).values"
   ]
  },
  {
   "cell_type": "code",
   "execution_count": 24,
   "id": "d13d1348",
   "metadata": {
    "scrolled": true
   },
   "outputs": [
    {
     "name": "stdout",
     "output_type": "stream",
     "text": [
      "[[5.1 3.5 1.4 0.2]\n",
      " [4.9 3.  1.4 0.2]\n",
      " [4.7 3.2 1.3 0.2]\n",
      " [4.6 3.1 1.5 0.2]\n",
      " [5.  3.6 1.4 0.2]\n",
      " [5.4 3.9 1.7 0.4]\n",
      " [4.6 3.4 1.4 0.3]\n",
      " [5.  3.4 1.5 0.2]\n",
      " [4.4 2.9 1.4 0.2]\n",
      " [4.9 3.1 1.5 0.1]\n",
      " [5.4 3.7 1.5 0.2]\n",
      " [4.8 3.4 1.6 0.2]\n",
      " [4.8 3.  1.4 0.1]\n",
      " [4.3 3.  1.1 0.1]\n",
      " [5.8 4.  1.2 0.2]\n",
      " [5.7 4.4 1.5 0.4]\n",
      " [5.4 3.9 1.3 0.4]\n",
      " [5.1 3.5 1.4 0.3]\n",
      " [5.7 3.8 1.7 0.3]\n",
      " [5.1 3.8 1.5 0.3]\n",
      " [5.4 3.4 1.7 0.2]\n",
      " [5.1 3.7 1.5 0.4]\n",
      " [4.6 3.6 1.  0.2]\n",
      " [5.1 3.3 1.7 0.5]\n",
      " [4.8 3.4 1.9 0.2]\n",
      " [5.  3.  1.6 0.2]\n",
      " [5.  3.4 1.6 0.4]\n",
      " [5.2 3.5 1.5 0.2]\n",
      " [5.2 3.4 1.4 0.2]\n",
      " [4.7 3.2 1.6 0.2]\n",
      " [4.8 3.1 1.6 0.2]\n",
      " [5.4 3.4 1.5 0.4]\n",
      " [5.2 4.1 1.5 0.1]\n",
      " [5.5 4.2 1.4 0.2]\n",
      " [4.9 3.1 1.5 0.1]\n",
      " [5.  3.2 1.2 0.2]\n",
      " [5.5 3.5 1.3 0.2]\n",
      " [4.9 3.1 1.5 0.1]\n",
      " [4.4 3.  1.3 0.2]\n",
      " [5.1 3.4 1.5 0.2]\n",
      " [5.  3.5 1.3 0.3]\n",
      " [4.5 2.3 1.3 0.3]\n",
      " [4.4 3.2 1.3 0.2]\n",
      " [5.  3.5 1.6 0.6]\n",
      " [5.1 3.8 1.9 0.4]\n",
      " [4.8 3.  1.4 0.3]\n",
      " [5.1 3.8 1.6 0.2]\n",
      " [4.6 3.2 1.4 0.2]\n",
      " [5.3 3.7 1.5 0.2]\n",
      " [5.  3.3 1.4 0.2]\n",
      " [7.  3.2 4.7 1.4]\n",
      " [6.4 3.2 4.5 1.5]\n",
      " [6.9 3.1 4.9 1.5]\n",
      " [5.5 2.3 4.  1.3]\n",
      " [6.5 2.8 4.6 1.5]\n",
      " [5.7 2.8 4.5 1.3]\n",
      " [6.3 3.3 4.7 1.6]\n",
      " [4.9 2.4 3.3 1. ]\n",
      " [6.6 2.9 4.6 1.3]\n",
      " [5.2 2.7 3.9 1.4]\n",
      " [5.  2.  3.5 1. ]\n",
      " [5.9 3.  4.2 1.5]\n",
      " [6.  2.2 4.  1. ]\n",
      " [6.1 2.9 4.7 1.4]\n",
      " [5.6 2.9 3.6 1.3]\n",
      " [6.7 3.1 4.4 1.4]\n",
      " [5.6 3.  4.5 1.5]\n",
      " [5.8 2.7 4.1 1. ]\n",
      " [6.2 2.2 4.5 1.5]\n",
      " [5.6 2.5 3.9 1.1]\n",
      " [5.9 3.2 4.8 1.8]\n",
      " [6.1 2.8 4.  1.3]\n",
      " [6.3 2.5 4.9 1.5]\n",
      " [6.1 2.8 4.7 1.2]\n",
      " [6.4 2.9 4.3 1.3]\n",
      " [6.6 3.  4.4 1.4]\n",
      " [6.8 2.8 4.8 1.4]\n",
      " [6.7 3.  5.  1.7]\n",
      " [6.  2.9 4.5 1.5]\n",
      " [5.7 2.6 3.5 1. ]\n",
      " [5.5 2.4 3.8 1.1]\n",
      " [5.5 2.4 3.7 1. ]\n",
      " [5.8 2.7 3.9 1.2]\n",
      " [6.  2.7 5.1 1.6]\n",
      " [5.4 3.  4.5 1.5]\n",
      " [6.  3.4 4.5 1.6]\n",
      " [6.7 3.1 4.7 1.5]\n",
      " [6.3 2.3 4.4 1.3]\n",
      " [5.6 3.  4.1 1.3]\n",
      " [5.5 2.5 4.  1.3]\n",
      " [5.5 2.6 4.4 1.2]\n",
      " [6.1 3.  4.6 1.4]\n",
      " [5.8 2.6 4.  1.2]\n",
      " [5.  2.3 3.3 1. ]\n",
      " [5.6 2.7 4.2 1.3]\n",
      " [5.7 3.  4.2 1.2]\n",
      " [5.7 2.9 4.2 1.3]\n",
      " [6.2 2.9 4.3 1.3]\n",
      " [5.1 2.5 3.  1.1]\n",
      " [5.7 2.8 4.1 1.3]]\n"
     ]
    }
   ],
   "source": [
    "print(x)"
   ]
  },
  {
   "cell_type": "code",
   "execution_count": 25,
   "id": "373dd8f1",
   "metadata": {},
   "outputs": [
    {
     "name": "stdout",
     "output_type": "stream",
     "text": [
      "[0 0 0 0 0 0 0 0 0 0 0 0 0 0 0 0 0 0 0 0 0 0 0 0 0 0 0 0 0 0 0 0 0 0 0 0 0\n",
      " 0 0 0 0 0 0 0 0 0 0 0 0 0 1 1 1 1 1 1 1 1 1 1 1 1 1 1 1 1 1 1 1 1 1 1 1 1\n",
      " 1 1 1 1 1 1 1 1 1 1 1 1 1 1 1 1 1 1 1 1 1 1 1 1 1 1]\n"
     ]
    }
   ],
   "source": [
    "print(y)"
   ]
  },
  {
   "cell_type": "markdown",
   "id": "f52749e0",
   "metadata": {},
   "source": [
    "### Train test split"
   ]
  },
  {
   "cell_type": "code",
   "execution_count": 26,
   "id": "64b8a661",
   "metadata": {},
   "outputs": [
    {
     "name": "stdout",
     "output_type": "stream",
     "text": [
      "x_train shape: (80, 4)\n",
      "y_train shape: (80,)\n",
      "x_test shape: (20, 4)\n",
      "y_test shape: (20,)\n"
     ]
    }
   ],
   "source": [
    "\n",
    "np.random.seed(42)\n",
    "\n",
    "# Get the number of samples\n",
    "num_samples = len(x)\n",
    "\n",
    "# Shuffle indices\n",
    "indices = np.arange(num_samples)\n",
    "np.random.shuffle(indices)\n",
    "\n",
    "# Calculate the index to split the data into training and testing sets\n",
    "split_index = int(0.8 * num_samples)\n",
    "\n",
    "# Split the data\n",
    "x_train, x_test = x[indices[:split_index]], x[indices[split_index:]]\n",
    "y_train, y_test = y[indices[:split_index]], y[indices[split_index:]]\n",
    "\n",
    "\n",
    "# Checking the shapes of the training and testing sets\n",
    "print(\"x_train shape:\", x_train.shape)\n",
    "print(\"y_train shape:\", y_train.shape)\n",
    "print(\"x_test shape:\", x_test.shape)\n",
    "print(\"y_test shape:\", y_test.shape)"
   ]
  },
  {
   "cell_type": "code",
   "execution_count": 27,
   "id": "b507dfbf",
   "metadata": {},
   "outputs": [
    {
     "name": "stdout",
     "output_type": "stream",
     "text": [
      "x_train_scaled shape: (80, 4)\n",
      "x_test_scaled shape: (20, 4)\n"
     ]
    }
   ],
   "source": [
    "mean_train = np.mean(x_train, axis=0)\n",
    "std_train = np.std(x_train, axis=0)\n",
    "x_train = (x_train - mean_train) / std_train\n",
    "x_test = (x_test - mean_train) / std_train\n",
    "\n",
    "# Checking the shapes of the scaled training and testing sets\n",
    "print(\"x_train_scaled shape:\", x_train.shape)\n",
    "print(\"x_test_scaled shape:\", x_test.shape)"
   ]
  },
  {
   "cell_type": "code",
   "execution_count": 28,
   "id": "e4c5f486",
   "metadata": {},
   "outputs": [
    {
     "data": {
      "text/plain": [
       "array([[ 0.93795953, -0.85198001,  1.62106391,  1.50324701],\n",
       "       [ 0.13111262, -1.68065358,  0.85286992,  0.96954984],\n",
       "       [ 0.77659015,  0.18386195,  1.41155646,  1.85904511],\n",
       "       [-0.99847305, -0.23047484, -0.96286133, -0.8094407 ],\n",
       "       [-0.5143649 ,  1.4268723 , -0.61368225, -0.63154164],\n",
       "       [-0.5143649 ,  0.59819873, -0.89302552, -0.98733975],\n",
       "       [-1.32121181,  1.01253552, -1.2422046 , -0.98733975],\n",
       "       [ 0.13111262, -1.47348519,  0.71319829,  0.61375174],\n",
       "       [-0.03025676,  1.21970391, -0.89302552, -0.98733975],\n",
       "       [-0.5143649 ,  0.80536712, -0.96286133, -0.98733975],\n",
       "       [ 0.45385139,  1.4268723 , -0.75335388, -0.8094407 ],\n",
       "       [-0.99847305, -0.02330644, -0.8231897 , -0.98733975],\n",
       "       [ 1.09932891, -0.64481162,  1.34172064,  0.79165079],\n",
       "       [ 0.13111262,  2.25554587, -0.96286133, -0.98733975],\n",
       "       [ 0.13111262, -1.05914841,  1.13221319,  0.79165079],\n",
       "       [-0.67573429,  1.01253552, -0.96286133, -0.98733975],\n",
       "       [ 2.22891458, -0.64481162,  1.41155646,  1.1474489 ],\n",
       "       [ 2.0675452 , -0.23047484,  1.5512281 ,  1.68114606],\n",
       "       [-0.99847305, -0.23047484, -0.96286133, -1.1652388 ],\n",
       "       [-0.03025676,  0.59819873, -0.89302552, -0.63154164],\n",
       "       [ 0.45385139, -0.64481162,  1.20204901,  0.96954984],\n",
       "       [ 0.292482  , -0.23047484,  0.92270574,  0.96954984],\n",
       "       [-0.67573429,  0.59819873, -0.8231897 , -0.63154164],\n",
       "       [-1.64395057,  0.18386195, -1.03269715, -0.98733975],\n",
       "       [ 0.292482  , -1.2663168 ,  0.7830341 ,  0.61375174],\n",
       "       [ 0.45385139,  2.66988266, -0.89302552, -0.63154164],\n",
       "       [-0.67573429,  0.80536712, -1.03269715, -0.8094407 ],\n",
       "       [ 0.45385139, -0.43764323,  0.99254156,  0.96954984],\n",
       "       [-0.83710367, -0.02330644, -0.89302552, -1.1652388 ],\n",
       "       [ 1.42206768, -1.2663168 ,  1.48139228,  1.32534795],\n",
       "       [-0.99847305,  0.59819873, -0.8231897 , -0.98733975],\n",
       "       [-1.32121181,  0.18386195, -0.96286133, -0.98733975],\n",
       "       [ 0.93795953,  0.59819873,  1.20204901,  1.50324701],\n",
       "       [-0.35299552,  0.59819873, -0.96286133, -0.98733975],\n",
       "       [-0.67573429, -1.68065358,  0.3640192 ,  0.43585268],\n",
       "       [-0.03025676,  1.63404069, -0.75335388, -0.63154164],\n",
       "       [ 0.292482  , -0.23047484,  1.20204901,  1.32534795],\n",
       "       [ 2.0675452 , -0.02330644,  1.13221319,  1.1474489 ],\n",
       "       [-0.67573429,  0.18386195, -1.10253297, -0.98733975],\n",
       "       [-0.03025676,  1.63404069, -1.03269715, -0.63154164],\n",
       "       [-0.67573429,  0.39103034, -0.96286133, -0.98733975],\n",
       "       [-0.83710367, -0.02330644, -0.89302552, -1.1652388 ],\n",
       "       [-0.67573429,  0.59819873, -0.89302552, -0.98733975],\n",
       "       [ 0.45385139, -0.23047484,  0.99254156,  0.79165079],\n",
       "       [-0.35299552,  0.80536712, -0.89302552, -0.98733975],\n",
       "       [-0.5143649 ,  1.4268723 , -0.89302552, -0.8094407 ],\n",
       "       [ 0.13111262, -1.47348519,  0.64336247,  0.43585268],\n",
       "       [-0.67573429, -0.23047484, -0.8231897 , -0.98733975],\n",
       "       [ 0.93795953, -1.88782197,  0.85286992,  0.43585268],\n",
       "       [-1.80531996, -0.23047484, -1.17236879, -1.1652388 ],\n",
       "       [-0.99847305,  0.59819873, -0.61368225, -0.98733975],\n",
       "       [-1.32121181, -0.02330644, -0.89302552, -0.98733975],\n",
       "       [-0.5143649 ,  0.80536712, -0.96286133, -0.8094407 ],\n",
       "       [-1.64395057, -0.23047484, -1.03269715, -0.98733975],\n",
       "       [-1.64395057, -0.43764323, -0.96286133, -0.98733975],\n",
       "       [ 0.93795953, -0.43764323,  1.20204901,  1.32534795],\n",
       "       [-1.32121181,  0.59819873, -0.96286133, -0.8094407 ],\n",
       "       [ 0.292482  , -0.43764323,  0.57352665,  0.96954984],\n",
       "       [ 0.13111262,  0.80536712, -1.03269715, -0.98733975],\n",
       "       [ 0.13111262, -1.2663168 ,  0.85286992,  0.96954984],\n",
       "       [ 1.42206768,  0.39103034,  1.34172064,  1.50324701],\n",
       "       [ 0.45385139, -0.64481162,  0.92270574,  0.96954984],\n",
       "       [ 1.74480644, -0.64481162,  1.27188483,  1.32534795],\n",
       "       [-0.67573429,  0.80536712, -0.8231897 , -0.27574353],\n",
       "       [ 2.55165335,  0.18386195,  1.34172064,  1.1474489 ],\n",
       "       [ 0.61522077, -0.85198001,  0.92270574,  0.43585268],\n",
       "       [-0.5143649 ,  1.4268723 , -0.8231897 , -0.98733975],\n",
       "       [ 1.26069829, -1.88782197,  1.20204901,  1.32534795],\n",
       "       [ 0.77659015, -0.23047484,  0.99254156,  1.32534795],\n",
       "       [ 1.26069829, -0.43764323,  1.06237737,  0.96954984],\n",
       "       [ 0.45385139, -1.05914841,  0.50369083,  0.43585268],\n",
       "       [-1.48258119, -1.68065358, -1.03269715, -0.8094407 ],\n",
       "       [ 1.90617582, -0.43764323,  1.27188483,  0.96954984],\n",
       "       [-0.19162614,  1.21970391, -0.89302552, -0.98733975],\n",
       "       [-0.5143649 , -1.2663168 ,  0.15451175,  0.61375174],\n",
       "       [-0.83710367, -1.47348519,  0.3640192 ,  0.43585268],\n",
       "       [ 1.90617582, -0.23047484,  1.13221319,  1.1474489 ],\n",
       "       [-0.35299552,  2.04837748, -0.89302552, -1.1652388 ],\n",
       "       [ 0.292482  , -0.85198001,  0.99254156,  0.96954984],\n",
       "       [-0.35299552, -0.85198001,  0.7830341 ,  1.1474489 ]])"
      ]
     },
     "execution_count": 28,
     "metadata": {},
     "output_type": "execute_result"
    }
   ],
   "source": [
    "x_train"
   ]
  },
  {
   "cell_type": "markdown",
   "id": "5ee4ea75",
   "metadata": {},
   "source": [
    "## Perceptron class"
   ]
  },
  {
   "cell_type": "code",
   "execution_count": 32,
   "id": "215a2e97",
   "metadata": {},
   "outputs": [],
   "source": [
    "class Perceptron:\n",
    "    \n",
    "    def __init__(self, learning_rate=0.0001, epochs=100):\n",
    "        self.w = None\n",
    "        self.learning_rate = learning_rate\n",
    "        self.epochs = epochs\n",
    "        \n",
    "    def output_layer(self, x):\n",
    "        return np.dot(x, self.w)\n",
    "    \n",
    "    def step(self, x):\n",
    "        return np.where(x >= 0, 1, 0)\n",
    "        \n",
    "    def mse(self, y_true, y_pred):\n",
    "        return ((y_pred - y_true) ** 2).mean()    \n",
    "        \n",
    "    def fit(self, x_train, y_train):\n",
    "        x_train = np.c_[np.ones(x_train.shape[0]), x_train]\n",
    "        self.w = np.zeros(x_train.shape[1])  # Reshape not needed\n",
    "        \n",
    "        for epoch in range(self.epochs):\n",
    "            preds = self.output_layer(x_train)\n",
    "            y_pred = np.vectorize(self.step)(preds)\n",
    "            \n",
    "            error = self.mse(y_train, y_pred)\n",
    "            dE_dW = -2 * np.dot((y_train - y_pred), x_train) / len(y_train)\n",
    "            \n",
    "            self.w -= self.learning_rate * dE_dW\n",
    "            \n",
    "            print(f'Iteration: {epoch}, Error: {error}')\n",
    "    \n",
    "    def predict(self, x_test):\n",
    "        x_test = np.c_[np.ones(x_test.shape[0]), x_test]\n",
    "        predictions = self.output_layer(x_test)\n",
    "        y_test = np.vectorize(self.step)(predictions)\n",
    "        return y_test\n"
   ]
  },
  {
   "cell_type": "code",
   "execution_count": 33,
   "id": "2d798bfe",
   "metadata": {},
   "outputs": [
    {
     "name": "stdout",
     "output_type": "stream",
     "text": [
      "Iteration: 0, Error: 0.525\n",
      "Iteration: 1, Error: 0.0\n",
      "Iteration: 2, Error: 0.0\n",
      "Iteration: 3, Error: 0.0\n",
      "Iteration: 4, Error: 0.0\n",
      "Iteration: 5, Error: 0.0\n",
      "Iteration: 6, Error: 0.0\n",
      "Iteration: 7, Error: 0.0\n",
      "Iteration: 8, Error: 0.0\n",
      "Iteration: 9, Error: 0.0\n",
      "Iteration: 10, Error: 0.0\n",
      "Iteration: 11, Error: 0.0\n",
      "Iteration: 12, Error: 0.0\n",
      "Iteration: 13, Error: 0.0\n",
      "Iteration: 14, Error: 0.0\n",
      "Iteration: 15, Error: 0.0\n",
      "Iteration: 16, Error: 0.0\n",
      "Iteration: 17, Error: 0.0\n",
      "Iteration: 18, Error: 0.0\n",
      "Iteration: 19, Error: 0.0\n",
      "Iteration: 20, Error: 0.0\n",
      "Iteration: 21, Error: 0.0\n",
      "Iteration: 22, Error: 0.0\n",
      "Iteration: 23, Error: 0.0\n",
      "Iteration: 24, Error: 0.0\n",
      "Iteration: 25, Error: 0.0\n",
      "Iteration: 26, Error: 0.0\n",
      "Iteration: 27, Error: 0.0\n",
      "Iteration: 28, Error: 0.0\n",
      "Iteration: 29, Error: 0.0\n",
      "Iteration: 30, Error: 0.0\n",
      "Iteration: 31, Error: 0.0\n",
      "Iteration: 32, Error: 0.0\n",
      "Iteration: 33, Error: 0.0\n",
      "Iteration: 34, Error: 0.0\n",
      "Iteration: 35, Error: 0.0\n",
      "Iteration: 36, Error: 0.0\n",
      "Iteration: 37, Error: 0.0\n",
      "Iteration: 38, Error: 0.0\n",
      "Iteration: 39, Error: 0.0\n",
      "Iteration: 40, Error: 0.0\n",
      "Iteration: 41, Error: 0.0\n",
      "Iteration: 42, Error: 0.0\n",
      "Iteration: 43, Error: 0.0\n",
      "Iteration: 44, Error: 0.0\n",
      "Iteration: 45, Error: 0.0\n",
      "Iteration: 46, Error: 0.0\n",
      "Iteration: 47, Error: 0.0\n",
      "Iteration: 48, Error: 0.0\n",
      "Iteration: 49, Error: 0.0\n",
      "Iteration: 50, Error: 0.0\n",
      "Iteration: 51, Error: 0.0\n",
      "Iteration: 52, Error: 0.0\n",
      "Iteration: 53, Error: 0.0\n",
      "Iteration: 54, Error: 0.0\n",
      "Iteration: 55, Error: 0.0\n",
      "Iteration: 56, Error: 0.0\n",
      "Iteration: 57, Error: 0.0\n",
      "Iteration: 58, Error: 0.0\n",
      "Iteration: 59, Error: 0.0\n",
      "Iteration: 60, Error: 0.0\n",
      "Iteration: 61, Error: 0.0\n",
      "Iteration: 62, Error: 0.0\n",
      "Iteration: 63, Error: 0.0\n",
      "Iteration: 64, Error: 0.0\n",
      "Iteration: 65, Error: 0.0\n",
      "Iteration: 66, Error: 0.0\n",
      "Iteration: 67, Error: 0.0\n",
      "Iteration: 68, Error: 0.0\n",
      "Iteration: 69, Error: 0.0\n",
      "Iteration: 70, Error: 0.0\n",
      "Iteration: 71, Error: 0.0\n",
      "Iteration: 72, Error: 0.0\n",
      "Iteration: 73, Error: 0.0\n",
      "Iteration: 74, Error: 0.0\n",
      "Iteration: 75, Error: 0.0\n",
      "Iteration: 76, Error: 0.0\n",
      "Iteration: 77, Error: 0.0\n",
      "Iteration: 78, Error: 0.0\n",
      "Iteration: 79, Error: 0.0\n",
      "Iteration: 80, Error: 0.0\n",
      "Iteration: 81, Error: 0.0\n",
      "Iteration: 82, Error: 0.0\n",
      "Iteration: 83, Error: 0.0\n",
      "Iteration: 84, Error: 0.0\n",
      "Iteration: 85, Error: 0.0\n",
      "Iteration: 86, Error: 0.0\n",
      "Iteration: 87, Error: 0.0\n",
      "Iteration: 88, Error: 0.0\n",
      "Iteration: 89, Error: 0.0\n",
      "Iteration: 90, Error: 0.0\n",
      "Iteration: 91, Error: 0.0\n",
      "Iteration: 92, Error: 0.0\n",
      "Iteration: 93, Error: 0.0\n",
      "Iteration: 94, Error: 0.0\n",
      "Iteration: 95, Error: 0.0\n",
      "Iteration: 96, Error: 0.0\n",
      "Iteration: 97, Error: 0.0\n",
      "Iteration: 98, Error: 0.0\n",
      "Iteration: 99, Error: 0.0\n"
     ]
    }
   ],
   "source": [
    "perceptron = Perceptron(learning_rate=0.0001, epochs=100)\n",
    "perceptron.fit(x_train, y_train)\n",
    "\n",
    "y_pred = perceptron.predict(x_test)"
   ]
  },
  {
   "cell_type": "code",
   "execution_count": 39,
   "id": "52de94cf",
   "metadata": {},
   "outputs": [
    {
     "name": "stdout",
     "output_type": "stream",
     "text": [
      "MSE Error for Test Data: 0.0\n"
     ]
    }
   ],
   "source": [
    "error_test = perceptron.mse(y_test, pred)\n",
    "print(f'MSE Error for Test Data: {error_test}')"
   ]
  },
  {
   "cell_type": "code",
   "execution_count": 34,
   "id": "3dfc0ce7",
   "metadata": {},
   "outputs": [
    {
     "name": "stdout",
     "output_type": "stream",
     "text": [
      "Accuracy: 100.00%\n",
      "(20, 4)\n"
     ]
    }
   ],
   "source": [
    "correct_predictions = np.sum(y_pred == y_test)\n",
    "total_samples = len(y_test)\n",
    "\n",
    "accuracy = correct_predictions / total_samples\n",
    "print(f\"Accuracy: {accuracy * 100:.2f}%\")\n",
    "print(x_test.shape)"
   ]
  },
  {
   "cell_type": "code",
   "execution_count": 37,
   "id": "ae1db97e",
   "metadata": {},
   "outputs": [
    {
     "data": {
      "image/png": "[encoded data removed]",
      "text/plain": [
       "<Figure size 432x288 with 2 Axes>"
      ]
     },
     "metadata": {
      "needs_background": "light"
     },
     "output_type": "display_data"
    }
   ],
   "source": [
    "from sklearn.metrics import confusion_matrix\n",
    "conf_matrix = confusion_matrix(y_test, y_pred)\n",
    "plt.imshow(conf_matrix, interpolation='nearest', cmap=plt.cm.Blues)\n",
    "plt.title('Confusion Matrix')\n",
    "plt.colorbar()\n",
    "plt.xlabel('Predicted Label')\n",
    "plt.ylabel('True Label')\n",
    "\n",
    "for i in range(conf_matrix.shape[0]):\n",
    "    for j in range(conf_matrix.shape[1]):\n",
    "        plt.text(j, i, str(conf_matrix[i, j]), ha='center', va='center', color='black')\n",
    "\n",
    "class_labels = [f'Class {i}' for i in range(conf_matrix.shape[0])]\n",
    "plt.xticks(np.arange(len(class_labels)), class_labels)\n",
    "plt.yticks(np.arange(len(class_labels)), class_labels)\n",
    "\n",
    "plt.show()\n"
   ]
  },
  {
   "cell_type": "code",
   "execution_count": null,
   "id": "020fe957",
   "metadata": {},
   "outputs": [],
   "source": []
  }
 ],
 "metadata": {
  "kernelspec": {
   "display_name": "Python 3 (ipykernel)",
   "language": "python",
   "name": "python3"
  },
  "language_info": {
   "codemirror_mode": {
    "name": "ipython",
    "version": 3
   },
   "file_extension": ".py",
   "mimetype": "text/x-python",
   "name": "python",
   "nbconvert_exporter": "python",
   "pygments_lexer": "ipython3",
   "version": "3.9.12"
  }
 },
 "nbformat": 4,
 "nbformat_minor": 5
}
